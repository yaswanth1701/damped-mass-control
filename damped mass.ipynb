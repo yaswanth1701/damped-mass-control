{
 "cells": [
  {
   "cell_type": "code",
   "execution_count": 30,
   "id": "a551ae56",
   "metadata": {},
   "outputs": [],
   "source": [
    "import scipy\n",
    "from scipy import linalg\n",
    "import numpy as np\n",
    "import matplotlib.pyplot as plt\n",
    "import math \n",
    "from math import pi"
   ]
  },
  {
   "cell_type": "code",
   "execution_count": 31,
   "id": "b3561b46",
   "metadata": {},
   "outputs": [],
   "source": [
    "def plot(x,v,t):\n",
    "    plt.subplot(2, 1, 1)\n",
    "    plt.plot(t,x)\n",
    "    plt.plot([0,10],[pi/2,pi/2],label=\"reference line\")\n",
    "    plt.xlabel('time')\n",
    "    plt.ylabel('displacement')\n",
    "    plt.legend()\n",
    "    plt.show()\n",
    "    plt.subplot(2, 1, 2)\n",
    "    plt.plot(t,v)\n",
    "    plt.plot([0,10],[0,0],label=\"reference line\")\n",
    "    plt.xlabel('time')\n",
    "    plt.ylabel('velocity')\n",
    "    plt.legend()\n",
    "    plt.show()\n",
    "    "
   ]
  },
  {
   "cell_type": "code",
   "execution_count": 32,
   "id": "9cf731cf",
   "metadata": {},
   "outputs": [
    {
     "data": {
      "image/png": "[encoded data removed]",
      "text/plain": [
       "<Figure size 432x288 with 1 Axes>"
      ]
     },
     "metadata": {
      "needs_background": "light"
     },
     "output_type": "display_data"
    },
    {
     "data": {
      "image/png": "[encoded data removed]",
      "text/plain": [
       "<Figure size 432x288 with 1 Axes>"
      ]
     },
     "metadata": {
      "needs_background": "light"
     },
     "output_type": "display_data"
    }
   ],
   "source": [
    "\n",
    "\n",
    "a=np.array([[0,1],[0,-1/5]])\n",
    "\n",
    "b=np.array([[0],[1]])\n",
    "\n",
    "q=np.array([[1,0],[0,1]])\n",
    "\n",
    "r=np.array([[1/100]])\n",
    "\n",
    "x=linalg.solve_continuous_are(a, b, q, r)\n",
    "\n",
    "k=np.linalg.inv(r)@np.transpose(b)@x\n",
    "\n",
    "m=1 #mass \n",
    "c=0.2 #cofficient of air resistance \n",
    "#initial conditions\n",
    "x=pi\n",
    "u=-2\n",
    "#states\n",
    "x_d=np.array([[x],[u]])\n",
    "#desired states\n",
    "x_des=np.array([[pi/2],[0]])\n",
    "u_l=[]\n",
    "x_l=[]\n",
    "t=[]\n",
    "\n",
    "for i in range(1000):\n",
    "    f=(k@(x_des-x_d))\n",
    "    #dynamics of model\n",
    "    a=(f[0]-c*u)/m\n",
    "    #newton's laws of motion for discreate time \n",
    "    v=a*(0.01)+u\n",
    "    x_f=x+u*0.01+0.5*a*0.01*0.01\n",
    "    #updating velocity\n",
    "    u=v\n",
    "    x=x_f\n",
    "    x_d[0]=x\n",
    "    x_d[1]=u\n",
    "    x_l.append(x)\n",
    "    u_l.append(u)\n",
    "    t.append(i/100)\n",
    "plot(x_l,u_l,t)\n",
    "\n",
    "\n",
    "\n",
    "\n",
    "    "
   ]
  },
  {
   "cell_type": "code",
   "execution_count": null,
   "id": "493885f2",
   "metadata": {},
   "outputs": [],
   "source": []
  },
  {
   "cell_type": "code",
   "execution_count": null,
   "id": "fd666cf6",
   "metadata": {},
   "outputs": [],
   "source": []
  }
 ],
 "metadata": {
  "kernelspec": {
   "display_name": "Python 3",
   "language": "python",
   "name": "python3"
  },
  "language_info": {
   "codemirror_mode": {
    "name": "ipython",
    "version": 3
   },
   "file_extension": ".py",
   "mimetype": "text/x-python",
   "name": "python",
   "nbconvert_exporter": "python",
   "pygments_lexer": "ipython3",
   "version": "3.8.8"
  }
 },
 "nbformat": 4,
 "nbformat_minor": 5
}
